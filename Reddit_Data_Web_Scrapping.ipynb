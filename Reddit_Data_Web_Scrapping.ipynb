{
  "nbformat": 4,
  "nbformat_minor": 0,
  "metadata": {
    "colab": {
      "provenance": []
    },
    "kernelspec": {
      "name": "python3",
      "display_name": "Python 3"
    },
    "language_info": {
      "name": "python"
    }
  },
  "cells": [
    {
      "cell_type": "markdown",
      "source": [
        "## Scrapping a data from Reddit"
      ],
      "metadata": {
        "id": "kA7lcHgI5YZc"
      }
    },
    {
      "cell_type": "code",
      "execution_count": 1,
      "metadata": {
        "colab": {
          "base_uri": "https://localhost:8080/"
        },
        "id": "oeCTLzwJ5UX6",
        "outputId": "a7894372-ede8-4171-d441-0c0e3e41c3d7"
      },
      "outputs": [
        {
          "output_type": "stream",
          "name": "stdout",
          "text": [
            "Collecting praw\n",
            "  Downloading praw-7.8.1-py3-none-any.whl.metadata (9.4 kB)\n",
            "Collecting prawcore<3,>=2.4 (from praw)\n",
            "  Downloading prawcore-2.4.0-py3-none-any.whl.metadata (5.0 kB)\n",
            "Collecting update_checker>=0.18 (from praw)\n",
            "  Downloading update_checker-0.18.0-py3-none-any.whl.metadata (2.3 kB)\n",
            "Requirement already satisfied: websocket-client>=0.54.0 in /usr/local/lib/python3.10/dist-packages (from praw) (1.8.0)\n",
            "Requirement already satisfied: requests<3.0,>=2.6.0 in /usr/local/lib/python3.10/dist-packages (from prawcore<3,>=2.4->praw) (2.32.3)\n",
            "Requirement already satisfied: charset-normalizer<4,>=2 in /usr/local/lib/python3.10/dist-packages (from requests<3.0,>=2.6.0->prawcore<3,>=2.4->praw) (3.4.0)\n",
            "Requirement already satisfied: idna<4,>=2.5 in /usr/local/lib/python3.10/dist-packages (from requests<3.0,>=2.6.0->prawcore<3,>=2.4->praw) (3.10)\n",
            "Requirement already satisfied: urllib3<3,>=1.21.1 in /usr/local/lib/python3.10/dist-packages (from requests<3.0,>=2.6.0->prawcore<3,>=2.4->praw) (2.2.3)\n",
            "Requirement already satisfied: certifi>=2017.4.17 in /usr/local/lib/python3.10/dist-packages (from requests<3.0,>=2.6.0->prawcore<3,>=2.4->praw) (2024.8.30)\n",
            "Downloading praw-7.8.1-py3-none-any.whl (189 kB)\n",
            "\u001b[2K   \u001b[90m━━━━━━━━━━━━━━━━━━━━━━━━━━━━━━━━━━━━━━━━\u001b[0m \u001b[32m189.3/189.3 kB\u001b[0m \u001b[31m7.5 MB/s\u001b[0m eta \u001b[36m0:00:00\u001b[0m\n",
            "\u001b[?25hDownloading prawcore-2.4.0-py3-none-any.whl (17 kB)\n",
            "Downloading update_checker-0.18.0-py3-none-any.whl (7.0 kB)\n",
            "Installing collected packages: update_checker, prawcore, praw\n",
            "Successfully installed praw-7.8.1 prawcore-2.4.0 update_checker-0.18.0\n"
          ]
        }
      ],
      "source": [
        "# installing praw for scrapping reddint API\n",
        "!pip install praw"
      ]
    },
    {
      "cell_type": "code",
      "source": [
        "# Importing the required Libararies\n",
        "import praw\n",
        "import pandas as pd\n",
        "import time\n",
        "import matplotlib.pyplot as plt\n",
        "from transformers import AutoModelForSequenceClassification, AutoTokenizer\n",
        "\n",
        "\n"
      ],
      "metadata": {
        "id": "kPYORNWU5cZ2"
      },
      "execution_count": 2,
      "outputs": []
    },
    {
      "cell_type": "code",
      "source": [
        "# setting reddits client and user details for the API\n",
        "\n",
        "reddit = praw.Reddit(client_id='pNatqzEp4KakSkniZK7ZoA',\n",
        "                     client_secret='3rlUSmQRn6OjvV_voehtyJreTxdvvw',\n",
        "                     user_agent='myscrapapp by u/Feeling-Ability-1415')"
      ],
      "metadata": {
        "id": "FAFlIrW95d0r"
      },
      "execution_count": 3,
      "outputs": []
    },
    {
      "cell_type": "code",
      "source": [
        "# adding topics and limits to scrap\n",
        "\n",
        "topics = [ 'climatechange', 'technology', 'sports', 'finance', 'health', 'education', 'gaming', 'politics',\n",
        "    'science', 'entertainment', 'music', 'business', 'art', 'food', 'history', 'travel', 'cryptocurrency']\n",
        "limit = 100"
      ],
      "metadata": {
        "id": "ThOyrsTK5fnb"
      },
      "execution_count": 4,
      "outputs": []
    },
    {
      "cell_type": "code",
      "source": [
        "# creating a list to store data\n",
        "posts_data = []"
      ],
      "metadata": {
        "id": "HB8zRJA35hOj"
      },
      "execution_count": 5,
      "outputs": []
    },
    {
      "cell_type": "code",
      "source": [
        "# running a loop to scrap the data\n",
        "\n",
        "for topic in topics:\n",
        "    print(f\"Scraping data for topic: {topic}\")\n",
        "\n",
        "    # Scrape data based on topic (search query or subreddit)\n",
        "    for submission in reddit.subreddit(topic).hot(limit=limit):\n",
        "        posts_data.append({\n",
        "            \"Topic\": topic,\n",
        "            \"Title\": submission.title,\n",
        "            \"Body\": submission.selftext,\n",
        "            \"Subreddit\": submission.subreddit.display_name,\n",
        "            \"Score\": submission.score,\n",
        "            \"URL\": submission.url,\n",
        "            \"Date\": time.strftime('%Y-%m-%d %H:%M:%S', time.gmtime(submission.created_utc))\n",
        "        })"
      ],
      "metadata": {
        "colab": {
          "base_uri": "https://localhost:8080/"
        },
        "id": "G9TGfdAJ5ib7",
        "outputId": "1edbf85a-4490-43dd-f48d-5836cc0436f0"
      },
      "execution_count": 6,
      "outputs": [
        {
          "output_type": "stream",
          "name": "stderr",
          "text": [
            "WARNING:praw:It appears that you are using PRAW in an asynchronous environment.\n",
            "It is strongly recommended to use Async PRAW: https://asyncpraw.readthedocs.io.\n",
            "See https://praw.readthedocs.io/en/latest/getting_started/multiple_instances.html#discord-bots-and-asynchronous-environments for more info.\n",
            "\n"
          ]
        },
        {
          "output_type": "stream",
          "name": "stdout",
          "text": [
            "Scraping data for topic: climatechange\n"
          ]
        },
        {
          "output_type": "stream",
          "name": "stderr",
          "text": [
            "WARNING:praw:It appears that you are using PRAW in an asynchronous environment.\n",
            "It is strongly recommended to use Async PRAW: https://asyncpraw.readthedocs.io.\n",
            "See https://praw.readthedocs.io/en/latest/getting_started/multiple_instances.html#discord-bots-and-asynchronous-environments for more info.\n",
            "\n"
          ]
        },
        {
          "output_type": "stream",
          "name": "stdout",
          "text": [
            "Scraping data for topic: technology\n"
          ]
        },
        {
          "output_type": "stream",
          "name": "stderr",
          "text": [
            "WARNING:praw:It appears that you are using PRAW in an asynchronous environment.\n",
            "It is strongly recommended to use Async PRAW: https://asyncpraw.readthedocs.io.\n",
            "See https://praw.readthedocs.io/en/latest/getting_started/multiple_instances.html#discord-bots-and-asynchronous-environments for more info.\n",
            "\n"
          ]
        },
        {
          "output_type": "stream",
          "name": "stdout",
          "text": [
            "Scraping data for topic: sports\n"
          ]
        },
        {
          "output_type": "stream",
          "name": "stderr",
          "text": [
            "WARNING:praw:It appears that you are using PRAW in an asynchronous environment.\n",
            "It is strongly recommended to use Async PRAW: https://asyncpraw.readthedocs.io.\n",
            "See https://praw.readthedocs.io/en/latest/getting_started/multiple_instances.html#discord-bots-and-asynchronous-environments for more info.\n",
            "\n"
          ]
        },
        {
          "output_type": "stream",
          "name": "stdout",
          "text": [
            "Scraping data for topic: finance\n"
          ]
        },
        {
          "output_type": "stream",
          "name": "stderr",
          "text": [
            "WARNING:praw:It appears that you are using PRAW in an asynchronous environment.\n",
            "It is strongly recommended to use Async PRAW: https://asyncpraw.readthedocs.io.\n",
            "See https://praw.readthedocs.io/en/latest/getting_started/multiple_instances.html#discord-bots-and-asynchronous-environments for more info.\n",
            "\n"
          ]
        },
        {
          "output_type": "stream",
          "name": "stdout",
          "text": [
            "Scraping data for topic: health\n"
          ]
        },
        {
          "output_type": "stream",
          "name": "stderr",
          "text": [
            "WARNING:praw:It appears that you are using PRAW in an asynchronous environment.\n",
            "It is strongly recommended to use Async PRAW: https://asyncpraw.readthedocs.io.\n",
            "See https://praw.readthedocs.io/en/latest/getting_started/multiple_instances.html#discord-bots-and-asynchronous-environments for more info.\n",
            "\n"
          ]
        },
        {
          "output_type": "stream",
          "name": "stdout",
          "text": [
            "Scraping data for topic: education\n"
          ]
        },
        {
          "output_type": "stream",
          "name": "stderr",
          "text": [
            "WARNING:praw:It appears that you are using PRAW in an asynchronous environment.\n",
            "It is strongly recommended to use Async PRAW: https://asyncpraw.readthedocs.io.\n",
            "See https://praw.readthedocs.io/en/latest/getting_started/multiple_instances.html#discord-bots-and-asynchronous-environments for more info.\n",
            "\n"
          ]
        },
        {
          "output_type": "stream",
          "name": "stdout",
          "text": [
            "Scraping data for topic: gaming\n"
          ]
        },
        {
          "output_type": "stream",
          "name": "stderr",
          "text": [
            "WARNING:praw:It appears that you are using PRAW in an asynchronous environment.\n",
            "It is strongly recommended to use Async PRAW: https://asyncpraw.readthedocs.io.\n",
            "See https://praw.readthedocs.io/en/latest/getting_started/multiple_instances.html#discord-bots-and-asynchronous-environments for more info.\n",
            "\n"
          ]
        },
        {
          "output_type": "stream",
          "name": "stdout",
          "text": [
            "Scraping data for topic: politics\n"
          ]
        },
        {
          "output_type": "stream",
          "name": "stderr",
          "text": [
            "WARNING:praw:It appears that you are using PRAW in an asynchronous environment.\n",
            "It is strongly recommended to use Async PRAW: https://asyncpraw.readthedocs.io.\n",
            "See https://praw.readthedocs.io/en/latest/getting_started/multiple_instances.html#discord-bots-and-asynchronous-environments for more info.\n",
            "\n"
          ]
        },
        {
          "output_type": "stream",
          "name": "stdout",
          "text": [
            "Scraping data for topic: science\n"
          ]
        },
        {
          "output_type": "stream",
          "name": "stderr",
          "text": [
            "WARNING:praw:It appears that you are using PRAW in an asynchronous environment.\n",
            "It is strongly recommended to use Async PRAW: https://asyncpraw.readthedocs.io.\n",
            "See https://praw.readthedocs.io/en/latest/getting_started/multiple_instances.html#discord-bots-and-asynchronous-environments for more info.\n",
            "\n"
          ]
        },
        {
          "output_type": "stream",
          "name": "stdout",
          "text": [
            "Scraping data for topic: entertainment\n"
          ]
        },
        {
          "output_type": "stream",
          "name": "stderr",
          "text": [
            "WARNING:praw:It appears that you are using PRAW in an asynchronous environment.\n",
            "It is strongly recommended to use Async PRAW: https://asyncpraw.readthedocs.io.\n",
            "See https://praw.readthedocs.io/en/latest/getting_started/multiple_instances.html#discord-bots-and-asynchronous-environments for more info.\n",
            "\n"
          ]
        },
        {
          "output_type": "stream",
          "name": "stdout",
          "text": [
            "Scraping data for topic: music\n"
          ]
        },
        {
          "output_type": "stream",
          "name": "stderr",
          "text": [
            "WARNING:praw:It appears that you are using PRAW in an asynchronous environment.\n",
            "It is strongly recommended to use Async PRAW: https://asyncpraw.readthedocs.io.\n",
            "See https://praw.readthedocs.io/en/latest/getting_started/multiple_instances.html#discord-bots-and-asynchronous-environments for more info.\n",
            "\n"
          ]
        },
        {
          "output_type": "stream",
          "name": "stdout",
          "text": [
            "Scraping data for topic: business\n"
          ]
        },
        {
          "output_type": "stream",
          "name": "stderr",
          "text": [
            "WARNING:praw:It appears that you are using PRAW in an asynchronous environment.\n",
            "It is strongly recommended to use Async PRAW: https://asyncpraw.readthedocs.io.\n",
            "See https://praw.readthedocs.io/en/latest/getting_started/multiple_instances.html#discord-bots-and-asynchronous-environments for more info.\n",
            "\n"
          ]
        },
        {
          "output_type": "stream",
          "name": "stdout",
          "text": [
            "Scraping data for topic: art\n"
          ]
        },
        {
          "output_type": "stream",
          "name": "stderr",
          "text": [
            "WARNING:praw:It appears that you are using PRAW in an asynchronous environment.\n",
            "It is strongly recommended to use Async PRAW: https://asyncpraw.readthedocs.io.\n",
            "See https://praw.readthedocs.io/en/latest/getting_started/multiple_instances.html#discord-bots-and-asynchronous-environments for more info.\n",
            "\n"
          ]
        },
        {
          "output_type": "stream",
          "name": "stdout",
          "text": [
            "Scraping data for topic: food\n"
          ]
        },
        {
          "output_type": "stream",
          "name": "stderr",
          "text": [
            "WARNING:praw:It appears that you are using PRAW in an asynchronous environment.\n",
            "It is strongly recommended to use Async PRAW: https://asyncpraw.readthedocs.io.\n",
            "See https://praw.readthedocs.io/en/latest/getting_started/multiple_instances.html#discord-bots-and-asynchronous-environments for more info.\n",
            "\n"
          ]
        },
        {
          "output_type": "stream",
          "name": "stdout",
          "text": [
            "Scraping data for topic: history\n"
          ]
        },
        {
          "output_type": "stream",
          "name": "stderr",
          "text": [
            "WARNING:praw:It appears that you are using PRAW in an asynchronous environment.\n",
            "It is strongly recommended to use Async PRAW: https://asyncpraw.readthedocs.io.\n",
            "See https://praw.readthedocs.io/en/latest/getting_started/multiple_instances.html#discord-bots-and-asynchronous-environments for more info.\n",
            "\n"
          ]
        },
        {
          "output_type": "stream",
          "name": "stdout",
          "text": [
            "Scraping data for topic: travel\n"
          ]
        },
        {
          "output_type": "stream",
          "name": "stderr",
          "text": [
            "WARNING:praw:It appears that you are using PRAW in an asynchronous environment.\n",
            "It is strongly recommended to use Async PRAW: https://asyncpraw.readthedocs.io.\n",
            "See https://praw.readthedocs.io/en/latest/getting_started/multiple_instances.html#discord-bots-and-asynchronous-environments for more info.\n",
            "\n"
          ]
        },
        {
          "output_type": "stream",
          "name": "stdout",
          "text": [
            "Scraping data for topic: cryptocurrency\n"
          ]
        }
      ]
    },
    {
      "cell_type": "code",
      "source": [
        "# adding the scrapped data into a DataFrame\n",
        "\n",
        "df = pd.DataFrame(posts_data)"
      ],
      "metadata": {
        "id": "Tg95iQ6x5jvl"
      },
      "execution_count": 7,
      "outputs": []
    },
    {
      "cell_type": "code",
      "source": [
        "# checking the dataframe\n",
        "df"
      ],
      "metadata": {
        "colab": {
          "base_uri": "https://localhost:8080/",
          "height": 770
        },
        "id": "yZOScUTo5m8U",
        "outputId": "08ccb15b-807b-49b5-e774-4d44c07e6651"
      },
      "execution_count": 8,
      "outputs": [
        {
          "output_type": "execute_result",
          "data": {
            "text/plain": [
              "               Topic                                              Title  \\\n",
              "0      climatechange    The r/climatechange Verified User Flair Program   \n",
              "1      climatechange  Trump prepares to withdraw from Paris climate ...   \n",
              "2      climatechange  Considering climate impact where would the bes...   \n",
              "3      climatechange          Implications of US withdrawal from Paris?   \n",
              "4      climatechange  Climate policies that achieved major emission ...   \n",
              "...              ...                                                ...   \n",
              "1654  cryptocurrency  Early look at Opensea redesign teases 'XP' poi...   \n",
              "1655  cryptocurrency  Google Searches for Bitcoin Spike as Price Hit...   \n",
              "1656  cryptocurrency  We just surpassed Meta and are back in the Top...   \n",
              "1657  cryptocurrency      FTX Estate Sues Anthony Scaramucci, SkyBridge   \n",
              "1658  cryptocurrency  Ethereum (ETH) Surges 20%: Whales Return Amid ...   \n",
              "\n",
              "                                                   Body       Subreddit  \\\n",
              "0     r/climatechange is a community centered around...   climatechange   \n",
              "1                                                         climatechange   \n",
              "2     Australia was always my end up location but it...   climatechange   \n",
              "3     What would a US withdrawal from the Paris Agre...   climatechange   \n",
              "4                                                         climatechange   \n",
              "...                                                 ...             ...   \n",
              "1654                                                     CryptoCurrency   \n",
              "1655                                                     CryptoCurrency   \n",
              "1656                                                     CryptoCurrency   \n",
              "1657                                                     CryptoCurrency   \n",
              "1658                                                     CryptoCurrency   \n",
              "\n",
              "      Score                                                URL  \\\n",
              "0        40  https://www.reddit.com/r/climatechange/comment...   \n",
              "1       137  https://www.reuters.com/business/environment/t...   \n",
              "2        57  https://www.reddit.com/r/climatechange/comment...   \n",
              "3        11  https://www.reddit.com/r/climatechange/comment...   \n",
              "4       150  https://www.science.org/doi/full/10.1126/scien...   \n",
              "...     ...                                                ...   \n",
              "1654      0  https://www.theblock.co/post/325306/early-look...   \n",
              "1655    597                https://i.redd.it/iw76ae7daozd1.png   \n",
              "1656     80  https://companiesmarketcap.com/assets-by-marke...   \n",
              "1657      0  https://coinscreed.com/ftx-estate-sues-anthony...   \n",
              "1658    165  https://beincrypto.com/ethereum-price-rally-sa...   \n",
              "\n",
              "                     Date  \n",
              "0     2022-08-21 20:53:23  \n",
              "1     2024-11-11 08:30:52  \n",
              "2     2024-11-11 06:55:11  \n",
              "3     2024-11-11 12:34:28  \n",
              "4     2024-11-10 22:19:51  \n",
              "...                   ...  \n",
              "1654  2024-11-10 07:04:01  \n",
              "1655  2024-11-08 12:39:51  \n",
              "1656  2024-11-08 22:51:02  \n",
              "1657  2024-11-09 22:35:23  \n",
              "1658  2024-11-08 18:41:11  \n",
              "\n",
              "[1659 rows x 7 columns]"
            ],
            "text/html": [
              "\n",
              "  <div id=\"df-3dae24bd-d160-4728-a0e4-8cf8fa4ec4a6\" class=\"colab-df-container\">\n",
              "    <div>\n",
              "<style scoped>\n",
              "    .dataframe tbody tr th:only-of-type {\n",
              "        vertical-align: middle;\n",
              "    }\n",
              "\n",
              "    .dataframe tbody tr th {\n",
              "        vertical-align: top;\n",
              "    }\n",
              "\n",
              "    .dataframe thead th {\n",
              "        text-align: right;\n",
              "    }\n",
              "</style>\n",
              "<table border=\"1\" class=\"dataframe\">\n",
              "  <thead>\n",
              "    <tr style=\"text-align: right;\">\n",
              "      <th></th>\n",
              "      <th>Topic</th>\n",
              "      <th>Title</th>\n",
              "      <th>Body</th>\n",
              "      <th>Subreddit</th>\n",
              "      <th>Score</th>\n",
              "      <th>URL</th>\n",
              "      <th>Date</th>\n",
              "    </tr>\n",
              "  </thead>\n",
              "  <tbody>\n",
              "    <tr>\n",
              "      <th>0</th>\n",
              "      <td>climatechange</td>\n",
              "      <td>The r/climatechange Verified User Flair Program</td>\n",
              "      <td>r/climatechange is a community centered around...</td>\n",
              "      <td>climatechange</td>\n",
              "      <td>40</td>\n",
              "      <td>https://www.reddit.com/r/climatechange/comment...</td>\n",
              "      <td>2022-08-21 20:53:23</td>\n",
              "    </tr>\n",
              "    <tr>\n",
              "      <th>1</th>\n",
              "      <td>climatechange</td>\n",
              "      <td>Trump prepares to withdraw from Paris climate ...</td>\n",
              "      <td></td>\n",
              "      <td>climatechange</td>\n",
              "      <td>137</td>\n",
              "      <td>https://www.reuters.com/business/environment/t...</td>\n",
              "      <td>2024-11-11 08:30:52</td>\n",
              "    </tr>\n",
              "    <tr>\n",
              "      <th>2</th>\n",
              "      <td>climatechange</td>\n",
              "      <td>Considering climate impact where would the bes...</td>\n",
              "      <td>Australia was always my end up location but it...</td>\n",
              "      <td>climatechange</td>\n",
              "      <td>57</td>\n",
              "      <td>https://www.reddit.com/r/climatechange/comment...</td>\n",
              "      <td>2024-11-11 06:55:11</td>\n",
              "    </tr>\n",
              "    <tr>\n",
              "      <th>3</th>\n",
              "      <td>climatechange</td>\n",
              "      <td>Implications of US withdrawal from Paris?</td>\n",
              "      <td>What would a US withdrawal from the Paris Agre...</td>\n",
              "      <td>climatechange</td>\n",
              "      <td>11</td>\n",
              "      <td>https://www.reddit.com/r/climatechange/comment...</td>\n",
              "      <td>2024-11-11 12:34:28</td>\n",
              "    </tr>\n",
              "    <tr>\n",
              "      <th>4</th>\n",
              "      <td>climatechange</td>\n",
              "      <td>Climate policies that achieved major emission ...</td>\n",
              "      <td></td>\n",
              "      <td>climatechange</td>\n",
              "      <td>150</td>\n",
              "      <td>https://www.science.org/doi/full/10.1126/scien...</td>\n",
              "      <td>2024-11-10 22:19:51</td>\n",
              "    </tr>\n",
              "    <tr>\n",
              "      <th>...</th>\n",
              "      <td>...</td>\n",
              "      <td>...</td>\n",
              "      <td>...</td>\n",
              "      <td>...</td>\n",
              "      <td>...</td>\n",
              "      <td>...</td>\n",
              "      <td>...</td>\n",
              "    </tr>\n",
              "    <tr>\n",
              "      <th>1654</th>\n",
              "      <td>cryptocurrency</td>\n",
              "      <td>Early look at Opensea redesign teases 'XP' poi...</td>\n",
              "      <td></td>\n",
              "      <td>CryptoCurrency</td>\n",
              "      <td>0</td>\n",
              "      <td>https://www.theblock.co/post/325306/early-look...</td>\n",
              "      <td>2024-11-10 07:04:01</td>\n",
              "    </tr>\n",
              "    <tr>\n",
              "      <th>1655</th>\n",
              "      <td>cryptocurrency</td>\n",
              "      <td>Google Searches for Bitcoin Spike as Price Hit...</td>\n",
              "      <td></td>\n",
              "      <td>CryptoCurrency</td>\n",
              "      <td>597</td>\n",
              "      <td>https://i.redd.it/iw76ae7daozd1.png</td>\n",
              "      <td>2024-11-08 12:39:51</td>\n",
              "    </tr>\n",
              "    <tr>\n",
              "      <th>1656</th>\n",
              "      <td>cryptocurrency</td>\n",
              "      <td>We just surpassed Meta and are back in the Top...</td>\n",
              "      <td></td>\n",
              "      <td>CryptoCurrency</td>\n",
              "      <td>80</td>\n",
              "      <td>https://companiesmarketcap.com/assets-by-marke...</td>\n",
              "      <td>2024-11-08 22:51:02</td>\n",
              "    </tr>\n",
              "    <tr>\n",
              "      <th>1657</th>\n",
              "      <td>cryptocurrency</td>\n",
              "      <td>FTX Estate Sues Anthony Scaramucci, SkyBridge</td>\n",
              "      <td></td>\n",
              "      <td>CryptoCurrency</td>\n",
              "      <td>0</td>\n",
              "      <td>https://coinscreed.com/ftx-estate-sues-anthony...</td>\n",
              "      <td>2024-11-09 22:35:23</td>\n",
              "    </tr>\n",
              "    <tr>\n",
              "      <th>1658</th>\n",
              "      <td>cryptocurrency</td>\n",
              "      <td>Ethereum (ETH) Surges 20%: Whales Return Amid ...</td>\n",
              "      <td></td>\n",
              "      <td>CryptoCurrency</td>\n",
              "      <td>165</td>\n",
              "      <td>https://beincrypto.com/ethereum-price-rally-sa...</td>\n",
              "      <td>2024-11-08 18:41:11</td>\n",
              "    </tr>\n",
              "  </tbody>\n",
              "</table>\n",
              "<p>1659 rows × 7 columns</p>\n",
              "</div>\n",
              "    <div class=\"colab-df-buttons\">\n",
              "\n",
              "  <div class=\"colab-df-container\">\n",
              "    <button class=\"colab-df-convert\" onclick=\"convertToInteractive('df-3dae24bd-d160-4728-a0e4-8cf8fa4ec4a6')\"\n",
              "            title=\"Convert this dataframe to an interactive table.\"\n",
              "            style=\"display:none;\">\n",
              "\n",
              "  <svg xmlns=\"http://www.w3.org/2000/svg\" height=\"24px\" viewBox=\"0 -960 960 960\">\n",
              "    <path d=\"M120-120v-720h720v720H120Zm60-500h600v-160H180v160Zm220 220h160v-160H400v160Zm0 220h160v-160H400v160ZM180-400h160v-160H180v160Zm440 0h160v-160H620v160ZM180-180h160v-160H180v160Zm440 0h160v-160H620v160Z\"/>\n",
              "  </svg>\n",
              "    </button>\n",
              "\n",
              "  <style>\n",
              "    .colab-df-container {\n",
              "      display:flex;\n",
              "      gap: 12px;\n",
              "    }\n",
              "\n",
              "    .colab-df-convert {\n",
              "      background-color: #E8F0FE;\n",
              "      border: none;\n",
              "      border-radius: 50%;\n",
              "      cursor: pointer;\n",
              "      display: none;\n",
              "      fill: #1967D2;\n",
              "      height: 32px;\n",
              "      padding: 0 0 0 0;\n",
              "      width: 32px;\n",
              "    }\n",
              "\n",
              "    .colab-df-convert:hover {\n",
              "      background-color: #E2EBFA;\n",
              "      box-shadow: 0px 1px 2px rgba(60, 64, 67, 0.3), 0px 1px 3px 1px rgba(60, 64, 67, 0.15);\n",
              "      fill: #174EA6;\n",
              "    }\n",
              "\n",
              "    .colab-df-buttons div {\n",
              "      margin-bottom: 4px;\n",
              "    }\n",
              "\n",
              "    [theme=dark] .colab-df-convert {\n",
              "      background-color: #3B4455;\n",
              "      fill: #D2E3FC;\n",
              "    }\n",
              "\n",
              "    [theme=dark] .colab-df-convert:hover {\n",
              "      background-color: #434B5C;\n",
              "      box-shadow: 0px 1px 3px 1px rgba(0, 0, 0, 0.15);\n",
              "      filter: drop-shadow(0px 1px 2px rgba(0, 0, 0, 0.3));\n",
              "      fill: #FFFFFF;\n",
              "    }\n",
              "  </style>\n",
              "\n",
              "    <script>\n",
              "      const buttonEl =\n",
              "        document.querySelector('#df-3dae24bd-d160-4728-a0e4-8cf8fa4ec4a6 button.colab-df-convert');\n",
              "      buttonEl.style.display =\n",
              "        google.colab.kernel.accessAllowed ? 'block' : 'none';\n",
              "\n",
              "      async function convertToInteractive(key) {\n",
              "        const element = document.querySelector('#df-3dae24bd-d160-4728-a0e4-8cf8fa4ec4a6');\n",
              "        const dataTable =\n",
              "          await google.colab.kernel.invokeFunction('convertToInteractive',\n",
              "                                                    [key], {});\n",
              "        if (!dataTable) return;\n",
              "\n",
              "        const docLinkHtml = 'Like what you see? Visit the ' +\n",
              "          '<a target=\"_blank\" href=https://colab.research.google.com/notebooks/data_table.ipynb>data table notebook</a>'\n",
              "          + ' to learn more about interactive tables.';\n",
              "        element.innerHTML = '';\n",
              "        dataTable['output_type'] = 'display_data';\n",
              "        await google.colab.output.renderOutput(dataTable, element);\n",
              "        const docLink = document.createElement('div');\n",
              "        docLink.innerHTML = docLinkHtml;\n",
              "        element.appendChild(docLink);\n",
              "      }\n",
              "    </script>\n",
              "  </div>\n",
              "\n",
              "\n",
              "<div id=\"df-1e214190-b7e5-4920-ad37-21ceb41e9739\">\n",
              "  <button class=\"colab-df-quickchart\" onclick=\"quickchart('df-1e214190-b7e5-4920-ad37-21ceb41e9739')\"\n",
              "            title=\"Suggest charts\"\n",
              "            style=\"display:none;\">\n",
              "\n",
              "<svg xmlns=\"http://www.w3.org/2000/svg\" height=\"24px\"viewBox=\"0 0 24 24\"\n",
              "     width=\"24px\">\n",
              "    <g>\n",
              "        <path d=\"M19 3H5c-1.1 0-2 .9-2 2v14c0 1.1.9 2 2 2h14c1.1 0 2-.9 2-2V5c0-1.1-.9-2-2-2zM9 17H7v-7h2v7zm4 0h-2V7h2v10zm4 0h-2v-4h2v4z\"/>\n",
              "    </g>\n",
              "</svg>\n",
              "  </button>\n",
              "\n",
              "<style>\n",
              "  .colab-df-quickchart {\n",
              "      --bg-color: #E8F0FE;\n",
              "      --fill-color: #1967D2;\n",
              "      --hover-bg-color: #E2EBFA;\n",
              "      --hover-fill-color: #174EA6;\n",
              "      --disabled-fill-color: #AAA;\n",
              "      --disabled-bg-color: #DDD;\n",
              "  }\n",
              "\n",
              "  [theme=dark] .colab-df-quickchart {\n",
              "      --bg-color: #3B4455;\n",
              "      --fill-color: #D2E3FC;\n",
              "      --hover-bg-color: #434B5C;\n",
              "      --hover-fill-color: #FFFFFF;\n",
              "      --disabled-bg-color: #3B4455;\n",
              "      --disabled-fill-color: #666;\n",
              "  }\n",
              "\n",
              "  .colab-df-quickchart {\n",
              "    background-color: var(--bg-color);\n",
              "    border: none;\n",
              "    border-radius: 50%;\n",
              "    cursor: pointer;\n",
              "    display: none;\n",
              "    fill: var(--fill-color);\n",
              "    height: 32px;\n",
              "    padding: 0;\n",
              "    width: 32px;\n",
              "  }\n",
              "\n",
              "  .colab-df-quickchart:hover {\n",
              "    background-color: var(--hover-bg-color);\n",
              "    box-shadow: 0 1px 2px rgba(60, 64, 67, 0.3), 0 1px 3px 1px rgba(60, 64, 67, 0.15);\n",
              "    fill: var(--button-hover-fill-color);\n",
              "  }\n",
              "\n",
              "  .colab-df-quickchart-complete:disabled,\n",
              "  .colab-df-quickchart-complete:disabled:hover {\n",
              "    background-color: var(--disabled-bg-color);\n",
              "    fill: var(--disabled-fill-color);\n",
              "    box-shadow: none;\n",
              "  }\n",
              "\n",
              "  .colab-df-spinner {\n",
              "    border: 2px solid var(--fill-color);\n",
              "    border-color: transparent;\n",
              "    border-bottom-color: var(--fill-color);\n",
              "    animation:\n",
              "      spin 1s steps(1) infinite;\n",
              "  }\n",
              "\n",
              "  @keyframes spin {\n",
              "    0% {\n",
              "      border-color: transparent;\n",
              "      border-bottom-color: var(--fill-color);\n",
              "      border-left-color: var(--fill-color);\n",
              "    }\n",
              "    20% {\n",
              "      border-color: transparent;\n",
              "      border-left-color: var(--fill-color);\n",
              "      border-top-color: var(--fill-color);\n",
              "    }\n",
              "    30% {\n",
              "      border-color: transparent;\n",
              "      border-left-color: var(--fill-color);\n",
              "      border-top-color: var(--fill-color);\n",
              "      border-right-color: var(--fill-color);\n",
              "    }\n",
              "    40% {\n",
              "      border-color: transparent;\n",
              "      border-right-color: var(--fill-color);\n",
              "      border-top-color: var(--fill-color);\n",
              "    }\n",
              "    60% {\n",
              "      border-color: transparent;\n",
              "      border-right-color: var(--fill-color);\n",
              "    }\n",
              "    80% {\n",
              "      border-color: transparent;\n",
              "      border-right-color: var(--fill-color);\n",
              "      border-bottom-color: var(--fill-color);\n",
              "    }\n",
              "    90% {\n",
              "      border-color: transparent;\n",
              "      border-bottom-color: var(--fill-color);\n",
              "    }\n",
              "  }\n",
              "</style>\n",
              "\n",
              "  <script>\n",
              "    async function quickchart(key) {\n",
              "      const quickchartButtonEl =\n",
              "        document.querySelector('#' + key + ' button');\n",
              "      quickchartButtonEl.disabled = true;  // To prevent multiple clicks.\n",
              "      quickchartButtonEl.classList.add('colab-df-spinner');\n",
              "      try {\n",
              "        const charts = await google.colab.kernel.invokeFunction(\n",
              "            'suggestCharts', [key], {});\n",
              "      } catch (error) {\n",
              "        console.error('Error during call to suggestCharts:', error);\n",
              "      }\n",
              "      quickchartButtonEl.classList.remove('colab-df-spinner');\n",
              "      quickchartButtonEl.classList.add('colab-df-quickchart-complete');\n",
              "    }\n",
              "    (() => {\n",
              "      let quickchartButtonEl =\n",
              "        document.querySelector('#df-1e214190-b7e5-4920-ad37-21ceb41e9739 button');\n",
              "      quickchartButtonEl.style.display =\n",
              "        google.colab.kernel.accessAllowed ? 'block' : 'none';\n",
              "    })();\n",
              "  </script>\n",
              "</div>\n",
              "\n",
              "  <div id=\"id_c59eb029-856b-48af-b66d-d3291a8a4503\">\n",
              "    <style>\n",
              "      .colab-df-generate {\n",
              "        background-color: #E8F0FE;\n",
              "        border: none;\n",
              "        border-radius: 50%;\n",
              "        cursor: pointer;\n",
              "        display: none;\n",
              "        fill: #1967D2;\n",
              "        height: 32px;\n",
              "        padding: 0 0 0 0;\n",
              "        width: 32px;\n",
              "      }\n",
              "\n",
              "      .colab-df-generate:hover {\n",
              "        background-color: #E2EBFA;\n",
              "        box-shadow: 0px 1px 2px rgba(60, 64, 67, 0.3), 0px 1px 3px 1px rgba(60, 64, 67, 0.15);\n",
              "        fill: #174EA6;\n",
              "      }\n",
              "\n",
              "      [theme=dark] .colab-df-generate {\n",
              "        background-color: #3B4455;\n",
              "        fill: #D2E3FC;\n",
              "      }\n",
              "\n",
              "      [theme=dark] .colab-df-generate:hover {\n",
              "        background-color: #434B5C;\n",
              "        box-shadow: 0px 1px 3px 1px rgba(0, 0, 0, 0.15);\n",
              "        filter: drop-shadow(0px 1px 2px rgba(0, 0, 0, 0.3));\n",
              "        fill: #FFFFFF;\n",
              "      }\n",
              "    </style>\n",
              "    <button class=\"colab-df-generate\" onclick=\"generateWithVariable('df')\"\n",
              "            title=\"Generate code using this dataframe.\"\n",
              "            style=\"display:none;\">\n",
              "\n",
              "  <svg xmlns=\"http://www.w3.org/2000/svg\" height=\"24px\"viewBox=\"0 0 24 24\"\n",
              "       width=\"24px\">\n",
              "    <path d=\"M7,19H8.4L18.45,9,17,7.55,7,17.6ZM5,21V16.75L18.45,3.32a2,2,0,0,1,2.83,0l1.4,1.43a1.91,1.91,0,0,1,.58,1.4,1.91,1.91,0,0,1-.58,1.4L9.25,21ZM18.45,9,17,7.55Zm-12,3A5.31,5.31,0,0,0,4.9,8.1,5.31,5.31,0,0,0,1,6.5,5.31,5.31,0,0,0,4.9,4.9,5.31,5.31,0,0,0,6.5,1,5.31,5.31,0,0,0,8.1,4.9,5.31,5.31,0,0,0,12,6.5,5.46,5.46,0,0,0,6.5,12Z\"/>\n",
              "  </svg>\n",
              "    </button>\n",
              "    <script>\n",
              "      (() => {\n",
              "      const buttonEl =\n",
              "        document.querySelector('#id_c59eb029-856b-48af-b66d-d3291a8a4503 button.colab-df-generate');\n",
              "      buttonEl.style.display =\n",
              "        google.colab.kernel.accessAllowed ? 'block' : 'none';\n",
              "\n",
              "      buttonEl.onclick = () => {\n",
              "        google.colab.notebook.generateWithVariable('df');\n",
              "      }\n",
              "      })();\n",
              "    </script>\n",
              "  </div>\n",
              "\n",
              "    </div>\n",
              "  </div>\n"
            ],
            "application/vnd.google.colaboratory.intrinsic+json": {
              "type": "dataframe",
              "variable_name": "df",
              "summary": "{\n  \"name\": \"df\",\n  \"rows\": 1659,\n  \"fields\": [\n    {\n      \"column\": \"Topic\",\n      \"properties\": {\n        \"dtype\": \"category\",\n        \"num_unique_values\": 17,\n        \"samples\": [\n          \"climatechange\",\n          \"technology\",\n          \"education\"\n        ],\n        \"semantic_type\": \"\",\n        \"description\": \"\"\n      }\n    },\n    {\n      \"column\": \"Title\",\n      \"properties\": {\n        \"dtype\": \"string\",\n        \"num_unique_values\": 1634,\n        \"samples\": [\n          \"First-hand Experiences of November 1984 from Survivors of the Sikh Genocide [A collection of English Resources to learn more about the Genocide is included in the comments]\",\n          \"What Pictures Sell Well on eBay? Any Tips or Tools?\",\n          \"119 out of 120 credits, but can\\u2019t graduate on time\"\n        ],\n        \"semantic_type\": \"\",\n        \"description\": \"\"\n      }\n    },\n    {\n      \"column\": \"Body\",\n      \"properties\": {\n        \"dtype\": \"category\",\n        \"num_unique_values\": 497,\n        \"samples\": [\n          \"I\\u2019m just getting back into crypto currency and investing/trading after having interest in it a couple of other times in my life. I still had the Coinbase app on my phone and for the simplicity of getting money onto a platform I threw some money on there to see if I could day/swing trade a bit. I\\u2019m quickly learning that I should just buy buy buy right now with the surge of cryptocurrency as I would be up much more. \\n\\nThis isn\\u2019t my problem though. I\\u2019m recognizing that I\\u2019m getting hit with something like 2% fee per transaction and then a spread fee, so I\\u2019m not even getting the listed price that I see it being bought/sold at.\\n\\nTLDR: I need a better trading platform. I\\u2019ve heard Kraken and Gemini were good then. A little help for an investor please. Thank you!\",\n          \"Even though I was born in September of 2001 in Vietnam, I started Kindergarten/1st grade-ish in Russia some time in 2006 and finished 12th grade in May 2018 in the US (my school isn't ranked but I took a plethora of AP+post-AP courses).\\n\\nWith the cutoff date, I would have started kindergarten sometime between 2006-2007 and finished 12th grade sometime between May 2019-May 2020 (depends on the jurisdiction).\\n\\nI have heard many Americans claim it is beneficial to get a child to start school late (like an August or July born would start Kindergarten at 6 instead of 5) but I am not sure how it pans out in Asian culture, with their obsession in grades and stuff.\\n\\nIs this practice stigmatised amongst East/Southeast Asians and Asian Americans? I am curious given the fact starting Kindergarten late meant people your age are already in the first grade and even if your child receives straight A's in all honors class during 9th grade at 15, it is equivalent to someone your age receiving straight A/A- in regular 10th grade classes as supposed to honours.\\n\\nIronically, at Matignon High School (I didn't attend that high school but knew some people that did), the oldest tend to be Asian international students. I met some Chinese students in the class of 2018 who were born in 1998.\",\n          \"Mine would be Jim Croce. His songs were excellent and he\\u2019d have been way more popular and greater than he already is if he had the chance to spread his genius more. To me the emotions in his songs is unmatched.\"\n        ],\n        \"semantic_type\": \"\",\n        \"description\": \"\"\n      }\n    },\n    {\n      \"column\": \"Subreddit\",\n      \"properties\": {\n        \"dtype\": \"category\",\n        \"num_unique_values\": 17,\n        \"samples\": [\n          \"climatechange\",\n          \"technology\",\n          \"education\"\n        ],\n        \"semantic_type\": \"\",\n        \"description\": \"\"\n      }\n    },\n    {\n      \"column\": \"Score\",\n      \"properties\": {\n        \"dtype\": \"number\",\n        \"std\": 3197,\n        \"min\": 0,\n        \"max\": 47068,\n        \"num_unique_values\": 658,\n        \"samples\": [\n          280,\n          2319,\n          177\n        ],\n        \"semantic_type\": \"\",\n        \"description\": \"\"\n      }\n    },\n    {\n      \"column\": \"URL\",\n      \"properties\": {\n        \"dtype\": \"string\",\n        \"num_unique_values\": 1646,\n        \"samples\": [\n          \"https://www.cnn.com/2024/11/11/us/closed-border-trump-immigration-deportation/index.html\",\n          \"https://dailyhodl.com/2024/11/10/top-analyst-says-bitcoin-on-an-unstoppable-path-predicts-ethereum-rallies-in-coming-weeks/\",\n          \"https://apnews.com/article/trump-day-1-priorities-deportations-drilling-ukraine-6747c6e64b0440978f59450b928f61d1\"\n        ],\n        \"semantic_type\": \"\",\n        \"description\": \"\"\n      }\n    },\n    {\n      \"column\": \"Date\",\n      \"properties\": {\n        \"dtype\": \"object\",\n        \"num_unique_values\": 1654,\n        \"samples\": [\n          \"2024-11-09 22:35:23\",\n          \"2024-11-07 07:26:02\",\n          \"2024-10-28 22:04:13\"\n        ],\n        \"semantic_type\": \"\",\n        \"description\": \"\"\n      }\n    }\n  ]\n}"
            }
          },
          "metadata": {},
          "execution_count": 8
        }
      ]
    },
    {
      "cell_type": "code",
      "source": [
        "# checking the shape of data\n",
        "df.shape"
      ],
      "metadata": {
        "colab": {
          "base_uri": "https://localhost:8080/"
        },
        "id": "odOhOmi_5oFy",
        "outputId": "587f1a8e-5a92-4c53-d9c8-08d33a823cea"
      },
      "execution_count": 9,
      "outputs": [
        {
          "output_type": "execute_result",
          "data": {
            "text/plain": [
              "(1659, 7)"
            ]
          },
          "metadata": {},
          "execution_count": 9
        }
      ]
    },
    {
      "cell_type": "code",
      "source": [
        "# storing the data in CSV for using it for different purposes\n",
        "df.to_csv('reddit_topic_data.csv', index=False)"
      ],
      "metadata": {
        "id": "MdMHD5i15pg0"
      },
      "execution_count": 10,
      "outputs": []
    },
    {
      "cell_type": "code",
      "source": [],
      "metadata": {
        "id": "8zKn4Ti35zHU"
      },
      "execution_count": null,
      "outputs": []
    }
  ]
}